{
 "cells": [
  {
   "cell_type": "markdown",
   "metadata": {},
   "source": [
    "QuantumHelpers is a library intended to help with learning and understanding quantum computing, or can be used for quick calculations."
   ]
  },
  {
   "cell_type": "code",
   "execution_count": 1,
   "metadata": {},
   "outputs": [],
   "source": [
    "import src.QuantumHelpers as qh\n",
    "import numpy as np"
   ]
  },
  {
   "cell_type": "code",
   "execution_count": 2,
   "metadata": {},
   "outputs": [],
   "source": [
    "zeroState = qh.eval(\"|0><0|\")\n",
    "OneState = qh.eval(\"|1><1|\")\n"
   ]
  },
  {
   "cell_type": "code",
   "execution_count": 3,
   "metadata": {},
   "outputs": [
    {
     "name": "stdout",
     "output_type": "stream",
     "text": [
      "1 |10>\n",
      "1 |10>\n"
     ]
    }
   ],
   "source": [
    "a = qh.eval(\"|10>\")\n",
    "#cnot = qh.eval(\"(|0><0|)X + (|1><1|)I\")\n",
    "cnot = qh.QuantumElement(np.array([[1,0,0,0],[0,0,0,1],[0,0,1,0],[0,1,0,0]]), qh.WaveFunctionTokens.OPERATOR)\n",
    "b = cnot * a\n",
    "a.print()\n",
    "b.print()"
   ]
  },
  {
   "cell_type": "code",
   "execution_count": 4,
   "metadata": {},
   "outputs": [
    {
     "name": "stdout",
     "output_type": "stream",
     "text": [
      "[[-1/√2 1/√2]\n",
      " [1/√2 1/√2]]\n",
      "[[0-1j 0]\n",
      " [0 0+1j]]\n",
      "[[-1 0]\n",
      " [0 -1]]\n"
     ]
    }
   ],
   "source": [
    "print(qh.eval(\"-1j(Rz(π))*(Ry(π/2))\"))\n",
    "\n",
    "print(qh.eval(\"Rz(Pi)\"))\n",
    "\n",
    "print(qh.eval(\"Ry(2*Pi)\"))"
   ]
  },
  {
   "cell_type": "code",
   "execution_count": 5,
   "metadata": {},
   "outputs": [
    {
     "name": "stdout",
     "output_type": "stream",
     "text": [
      "[[5.494 0-1.256j]\n",
      " [0+1.256j 0.469]]\n"
     ]
    }
   ],
   "source": [
    "print(qh.eval(\"Exp(((1/2)Z + (1/4)Y) * Pi)\"))"
   ]
  },
  {
   "cell_type": "code",
   "execution_count": 6,
   "metadata": {},
   "outputs": [
    {
     "name": "stdout",
     "output_type": "stream",
     "text": [
      "[[0.125]\n",
      " [0]]\n"
     ]
    }
   ],
   "source": [
    "print(qh.eval(\"(1/8)|0>\"))"
   ]
  },
  {
   "cell_type": "code",
   "execution_count": 15,
   "metadata": {},
   "outputs": [
    {
     "name": "stdout",
     "output_type": "stream",
     "text": [
      "[[1.571 0]\n",
      " [0 -1.571]]\n",
      "[[4.810 0]\n",
      " [0 0.208]]\n",
      "[[-0.971 2.877]\n",
      " [2.877 0.971]]\n"
     ]
    }
   ],
   "source": [
    "print(qh.eval(\"-1j * (Pi * 1j / 2) * Z\"))\n",
    "print(qh.eval(\"Exp(-1j * (Pi * 1j / 2) * Z)\"))\n",
    "print(qh.eval(\"H * Exp(-1j * (Pi * 1j / 2) * Z) * H\"))"
   ]
  },
  {
   "cell_type": "code",
   "execution_count": 66,
   "metadata": {},
   "outputs": [
    {
     "name": "stdout",
     "output_type": "stream",
     "text": [
      "[[1/√2 1/√2]\n",
      " [1/√2 -1/√2]]\n",
      "[[1.571 0-0.785j]\n",
      " [0+0.785j -1.571]]\n",
      "[[1.571 0-0.785j]\n",
      " [0+0.785j -1.571]]\n",
      "[[0-1.571j -0.785]\n",
      " [0.785 0+1.571j]]\n",
      "[[-0.184-0.879j -0.440]\n",
      " [0.440 -0.184+0.879j]]\n",
      "[[-0.879+0.184j 0+0.440j]\n",
      " [0-0.440j 0.879+0.184j]]\n"
     ]
    }
   ],
   "source": [
    "print(qh.eval(\"(-1j*(Rz(π))*(Ry(3 * π/2)))\"))\n",
    "\n",
    "x = qh.eval(\"(Pi/2)Z + (Pi/4)Y\")\n",
    "print(x)\n",
    "#x = x * np.pi\n",
    "print(x)\n",
    "x = x * -1j\n",
    "print(x)\n",
    "x = qh.QuantumElement(qh.exponentiateMatrix(x.data), qh.WaveFunctionTokens.OPERATOR)\n",
    "print(x)\n",
    "x = x * -1j\n",
    "print(x)\n",
    "\n",
    "\n"
   ]
  },
  {
   "cell_type": "code",
   "execution_count": 69,
   "metadata": {},
   "outputs": [
    {
     "name": "stdout",
     "output_type": "stream",
     "text": [
      "0 |00>\n",
      "0 |01>\n",
      "0 |10>\n",
      "-1 |11>\n"
     ]
    }
   ],
   "source": [
    "qh.eval(\"((Rx(Pi))(Rx(Pi)))|00>\").print()"
   ]
  },
  {
   "cell_type": "code",
   "execution_count": 240,
   "metadata": {},
   "outputs": [
    {
     "name": "stdout",
     "output_type": "stream",
     "text": [
      "[[7.000 0 0 ... 0 0 0]\n",
      " [0 5.000 2.000 ... 0 0 0]\n",
      " [0 2.000 3.000 ... 0 0 0]\n",
      " ...\n",
      " [0 0 0 ... 3.000 2.000 0]\n",
      " [0 0 0 ... 2.000 5.000 0]\n",
      " [0 0 0 ... 0 0 7.000]]\n",
      "(-13.499730394751591+1.5777218121126138e-30j)\n",
      "(-2.4311021945555567e-13-7.651568084186147e-30j)\n"
     ]
    }
   ],
   "source": [
    "full_hp = qh.QuantumElement(np.zeros((2**8, 2**8)), qh.WaveFunctionTokens.OPERATOR)\n",
    "xs = ['XXIIIIII', 'IXXIIIII', 'IIXXIIII', 'IIIXXIII', 'IIIIXXII', 'IIIIIXXI', 'IIIIIIXX']\n",
    "ys = ['YYIIIIII', 'IYYIIIII', 'IIYYIIII', 'IIIYYIII', 'IIIIYYII', 'IIIIIYYI', 'IIIIIIYY']\n",
    "zs = ['ZZIIIIII', 'IZZIIIII', 'IIZZIIII', 'IIIZZIII', 'IIIIZZII', 'IIIIIZZI', 'IIIIIIZZ']\n",
    "for i in range(7):\n",
    "    full_hp += qh.eval(xs[i]) + qh.eval(ys[i]) + qh.eval(zs[i])\n",
    "\n",
    "print(full_hp)\n",
    "\n",
    "eigs, eigVecs = np.linalg.eig(full_hp.data)\n",
    "print(np.min(eigs))\n",
    "\n",
    "print(np.sum(full_hp.data * np.transpose(eigVecs)[np.argmin(eigs)] - np.transpose(eigVecs)[np.argmin(eigs)] * np.min(eigVecs)))\n",
    "\n",
    "gs_psi = qh.QuantumElement(np.transpose(eigVecs)[np.argmin(eigs)], qh.WaveFunctionTokens.OPERATOR)\n",
    "\n"
   ]
  },
  {
   "cell_type": "code",
   "execution_count": 241,
   "metadata": {},
   "outputs": [],
   "source": [
    "def Hp(a, dt):\n",
    "    theta = -2 * dt * a\n",
    "    print(f\"iswap with {theta}\")\n",
    "    hpIswap = p_iSwap(theta)\n",
    "    hprzz = rzz(theta)\n",
    "    I = qh.eval(\"I\")\n",
    "    evens = (hpIswap & hpIswap & hpIswap & hpIswap) * (hprzz & hprzz & hprzz & hprzz)\n",
    "    odds = (I & hpIswap & hpIswap & hpIswap & I) * (I & hprzz & hprzz & hprzz & I)\n",
    "    return evens * odds\n",
    "\n",
    "def Hd(b, dt):\n",
    "    theta = b * dt * 2\n",
    "    print(f\"Hd with {theta}\")\n",
    "    return qh.eval(f\"(Rz({theta:.20f}))(Rz(-1 * {theta:.20f}))\" * 4)\n",
    "    #return qh.eval(f\"(Rx({theta}))\" * 8)\n",
    "\n",
    "def rzz(theta):\n",
    "    return qh.eval(f\"Exp((-1j * {theta:.20f} / 2) * (ZZ))\")\n",
    "\n",
    "def p_iSwap(theta):\n",
    "    arr = np.array([[1, 0, 0, 0],\n",
    "                    [0, np.cos(theta/2), -1j * np.sin(theta/2), 0],\n",
    "                    [0, -1j * np.sin(theta/2), np.cos(theta/2), 0],\n",
    "                    [0, 0, 0, 1]])\n",
    "    return qh.QuantumElement(arr, qh.WaveFunctionTokens.OPERATOR)"
   ]
  },
  {
   "cell_type": "code",
   "execution_count": 254,
   "metadata": {},
   "outputs": [
    {
     "name": "stdout",
     "output_type": "stream",
     "text": [
      "iswap with -0.125\n",
      "Hd with 0.375\n",
      "iswap with -0.25\n",
      "Hd with 0.25\n",
      "iswap with -0.375\n",
      "Hd with 0.125\n",
      "iswap with -0.0625\n",
      "Hd with 0.4375\n"
     ]
    }
   ],
   "source": [
    "T = 1\n",
    "dt = 1 / 4\n",
    "\n",
    "psi = qh.eval(\"|01010101>\")\n",
    "t = 0\n",
    "while t < T:\n",
    "    a = (t + dt) / T\n",
    "    if a == 1:\n",
    "        a = dt/2\n",
    "    b = 1 - a\n",
    "    psi = Hp(a, dt) * psi\n",
    "    psi = Hd(b, dt) * psi\n",
    "    t += dt\n"
   ]
  },
  {
   "cell_type": "code",
   "execution_count": 255,
   "metadata": {},
   "outputs": [
    {
     "name": "stdout",
     "output_type": "stream",
     "text": [
      "(-5.519387091686517+0j)\n",
      "(-2.608104597436939+0j)\n",
      "(-2.6081045974369386+0j)\n",
      "(-10.735596286560394+0j)\n",
      "GS (-13.499730394751545+0j)\n"
     ]
    }
   ],
   "source": [
    "yHad = qh.QuantumElement( (1/np.sqrt(2)) * np.array([[1j, -1], [1, -1j]]), qh.WaveFunctionTokens.OPERATOR)\n",
    "\n",
    "expectStrings = ['ZZIIIIII', 'IZZIIIII', 'IIZZIIII', 'IIIZZIII', 'IIIIZZII', 'IIIIIZZI', 'IIIIIIZZ']\n",
    "xPsi = qh.eval(\"HHHHHHHH\") * psi\n",
    "gsXPsi = qh.eval(\"HHHHHHHH\") * gs_psi\n",
    "yPsi = (yHad & yHad & yHad & yHad & yHad & yHad & yHad & yHad) * psi\n",
    "gsYPsi = (yHad & yHad & yHad & yHad & yHad & yHad & yHad & yHad) * gs_psi\n",
    "zEnergy = 0\n",
    "xEnergy = 0\n",
    "yEnergy = 0\n",
    "gsZEnergy = 0\n",
    "gsXEnergy = 0\n",
    "gsYEnergy = 0\n",
    "for state in expectStrings:\n",
    "    op = qh.eval(state)\n",
    "    zEnergy += (psi.dagger() * op * psi).data\n",
    "    xEnergy += (xPsi.dagger() * op * xPsi).data\n",
    "    yEnergy += (yPsi.dagger() * op * yPsi).data\n",
    "    gsZEnergy += (gs_psi.dagger() * op * gs_psi).data    \n",
    "    gsXEnergy += (gsXPsi.dagger() * op * gsXPsi).data    \n",
    "    gsYEnergy += (gsYPsi.dagger() * op * gsYPsi).data    \n",
    "print(zEnergy)\n",
    "print(xEnergy)\n",
    "print(yEnergy)\n",
    "print(zEnergy + xEnergy + yEnergy)\n",
    "\n",
    "print(f\"GS {gsZEnergy + gsYEnergy + gsXEnergy}\")"
   ]
  },
  {
   "cell_type": "code",
   "execution_count": null,
   "metadata": {},
   "outputs": [],
   "source": []
  }
 ],
 "metadata": {
  "kernelspec": {
   "display_name": "Python 3 (ipykernel)",
   "language": "python",
   "name": "python3"
  },
  "language_info": {
   "codemirror_mode": {
    "name": "ipython",
    "version": 3
   },
   "file_extension": ".py",
   "mimetype": "text/x-python",
   "name": "python",
   "nbconvert_exporter": "python",
   "pygments_lexer": "ipython3",
   "version": "3.12.1"
  }
 },
 "nbformat": 4,
 "nbformat_minor": 2
}
