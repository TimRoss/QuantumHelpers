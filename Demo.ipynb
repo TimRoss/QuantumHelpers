{
 "cells": [
  {
   "cell_type": "markdown",
   "metadata": {},
   "source": [
    "QuantumHelpers is a library intended to help with learning and understanding quantum computing, or can be used for quick calculations."
   ]
  },
  {
   "cell_type": "code",
   "execution_count": 10,
   "metadata": {},
   "outputs": [],
   "source": [
    "import src.QuantumHelpers as qh\n",
    "import numpy as np"
   ]
  },
  {
   "cell_type": "code",
   "execution_count": 11,
   "metadata": {},
   "outputs": [
    {
     "name": "stdout",
     "output_type": "stream",
     "text": [
      "[[1/√2]\n",
      " [0]\n",
      " [0]\n",
      " [1/√2]]\n"
     ]
    }
   ],
   "source": [
    "# Use the eval function to read in a wavefunction as a string\n",
    "\n",
    "# This bell state is being created by addin the |00> and |11>\n",
    "# and normalizing by a factor of 1/sqrt(2)\n",
    "bell_state = qh.eval(\"(1/Sr(2))(|00> + |11>)\")\n",
    "print(bell_state)"
   ]
  },
  {
   "cell_type": "code",
   "execution_count": 13,
   "metadata": {},
   "outputs": [
    {
     "name": "stdout",
     "output_type": "stream",
     "text": [
      "[[1/√2]\n",
      " [0]\n",
      " [0]\n",
      " [1/√2]]\n"
     ]
    }
   ],
   "source": [
    "# The same bell state can be created by starting with the |00> state,\n",
    "# applying a Hadamard to the first qubit, and then a Cnot across the two qubtis\n",
    "\n",
    "# Gates are applied right to left, as if they are a function call\n",
    "# The HI is a kronecker product of a Hadamard gate and Identity.\n",
    "# This creates a 2-qubit gate where the\n",
    "# Hadamard is applied to the first qubit, and Identity to the second.\n",
    "same_bell_state = qh.eval(\"Cnot * HI|00>\")\n",
    "print(same_bell_state)"
   ]
  },
  {
   "cell_type": "code",
   "execution_count": 14,
   "metadata": {},
   "outputs": [
    {
     "name": "stdout",
     "output_type": "stream",
     "text": [
      "[[1/√2]\n",
      " [0]\n",
      " [0]\n",
      " [1/√2]]\n"
     ]
    }
   ],
   "source": [
    "# This same state can be made again by applying\n",
    "# a Hadamard to a single |0> state, then kronecker\n",
    "# multiplying to another single qubit |0> state\n",
    "# and then applying the Cnot across both qubits.\n",
    "# Make sure to use parenthesis to define order of operations\n",
    "same_bell_state_again = qh.eval(\"Cnot * (H|0>)|0>\")\n",
    "print(same_bell_state_again)"
   ]
  },
  {
   "cell_type": "code",
   "execution_count": 15,
   "metadata": {},
   "outputs": [
    {
     "name": "stdout",
     "output_type": "stream",
     "text": [
      "[[1/√2]\n",
      " [0]\n",
      " [0]\n",
      " [1/√2]]\n"
     ]
    }
   ],
   "source": [
    "# The eval function will also return an object that can be multiplied together.\n",
    "zeroKet = qh.eval(\"|0>\")\n",
    "hadamard = qh.eval(\"H\")\n",
    "cNot = qh.eval(\"Cnot\")\n",
    "print(cNot * ((hadamard * zeroKet) * zeroKet))"
   ]
  },
  {
   "cell_type": "code",
   "execution_count": 16,
   "metadata": {},
   "outputs": [
    {
     "name": "stdout",
     "output_type": "stream",
     "text": [
      "[[0 0 1 0]\n",
      " [0 0 0 -1]\n",
      " [1 0 0 0]\n",
      " [0 -1 0 0]]\n",
      "----------------\n",
      "[[0 -1]\n",
      " [1 0]]\n"
     ]
    }
   ],
   "source": [
    "# When one matrix is applied to another matrix, they can be matrix multiplied,\n",
    "# or kronecker multiplied. To specify in a eval string,\n",
    "# an explicit * is matrix multiplication,\n",
    "# and two matricies next to each other is assumed to be a kronecker product.\n",
    "print(qh.eval(\"XZ\")) # Make a 2 qubit gate with X1 Z2\n",
    "print(\"----------------\")\n",
    "print(qh.eval(\"X * Z\")) # Apply Z and then X to the same qubit"
   ]
  },
  {
   "cell_type": "code",
   "execution_count": 17,
   "metadata": {},
   "outputs": [
    {
     "name": "stdout",
     "output_type": "stream",
     "text": [
      "[[0 0 1 0]\n",
      " [0 0 0 -1]\n",
      " [1 0 0 0]\n",
      " [0 -1 0 0]]\n",
      "----------------\n",
      "[[0 -1]\n",
      " [1 0]]\n"
     ]
    }
   ],
   "source": [
    "# Both types of multiplication can also be specified while using objects.\n",
    "X = qh.eval(\"X\")\n",
    "Z = qh.eval(\"Z\")\n",
    "print(X & Z) # & is for kron\n",
    "print(\"----------------\")\n",
    "print(X * Z) # * is for matrix multiply"
   ]
  },
  {
   "cell_type": "code",
   "execution_count": 18,
   "metadata": {},
   "outputs": [
    {
     "name": "stdout",
     "output_type": "stream",
     "text": [
      "[[1 0]\n",
      " [0 0]]\n",
      "--------------\n",
      "1\n"
     ]
    }
   ],
   "source": [
    "# Matricies, Bras, and Kets are kept track of and handled\n",
    "# appropriately when evaluated.\n",
    "# This allows for projectors and expectation values to be created easily.\n",
    "zero_projector = qh.eval(\"|0><0|\")\n",
    "print(zero_projector)\n",
    "print(\"--------------\")\n",
    "zero_state_expectation = qh.eval(\"<0||0>\")\n",
    " # The vertical bar must be included for the ket and bra... just because of how it is tokenized\n",
    "print(zero_state_expectation)"
   ]
  },
  {
   "cell_type": "code",
   "execution_count": 19,
   "metadata": {},
   "outputs": [
    {
     "name": "stdout",
     "output_type": "stream",
     "text": [
      "[[1 0]\n",
      " [0 0]]\n",
      "--------------\n",
      "1\n"
     ]
    }
   ],
   "source": [
    "# This can also be done with objects, and can take advantage of the dagger method\n",
    "# Dagger is a hermetian conjugate (transpose and complex conjugate), which makes a ket a bra\n",
    "zeroKet = qh.eval(\"|0>\")\n",
    "print(zeroKet * zeroKet.dagger())\n",
    "print(\"--------------\")\n",
    "print(zeroKet.dagger() * zeroKet)"
   ]
  },
  {
   "cell_type": "code",
   "execution_count": 21,
   "metadata": {},
   "outputs": [
    {
     "name": "stdout",
     "output_type": "stream",
     "text": [
      "[[1/√2]\n",
      " [1/√2]]\n",
      "-------------\n",
      "[0.70710678 0.70710678]\n"
     ]
    }
   ],
   "source": [
    "# The eval function uses a class called QuantumElement, which simply stores data and type.\n",
    "# It is easy to get the data of the object as a numpy array by accessing the data attribute.\n",
    "\n",
    "# This can be helpful, because all of numpy functions are still available to use on QuantumElements,\n",
    "# just pass the data of the object into the numpy function!\n",
    "example_data = qh.eval(\"H|0>\")\n",
    "print(example_data)\n",
    "print(\"-------------\")\n",
    "print(example_data.data)"
   ]
  },
  {
   "cell_type": "code",
   "execution_count": 23,
   "metadata": {},
   "outputs": [
    {
     "name": "stdout",
     "output_type": "stream",
     "text": [
      "[[1/√2 1/√2]\n",
      " [1/√2 -1/√2]]\n"
     ]
    }
   ],
   "source": [
    "# Rotation gates and matrix exponentiation is also supported by the eval function.\n",
    "hadamard_by_rotation_gates = qh.eval(\"-1jRz(Pi)*Ry(3π/2)\") \n",
    "# Pi can be used as the unicode symbol or by using \"Pi\"\n",
    "print(hadamard_by_rotation_gates)"
   ]
  },
  {
   "cell_type": "code",
   "execution_count": null,
   "metadata": {},
   "outputs": [],
   "source": []
  },
  {
   "cell_type": "code",
   "execution_count": 26,
   "metadata": {},
   "outputs": [
    {
     "name": "stdout",
     "output_type": "stream",
     "text": [
      "[[1/√2]\n",
      " [0-1/√2j]]\n",
      "-------------\n",
      "[[1/√2]\n",
      " [0-1/√2j]]\n",
      "-------------\n",
      "[[1/√2]\n",
      " [0-1/√2j]]\n"
     ]
    }
   ],
   "source": [
    "# Exponentiated gates can be build with the Exp\n",
    "rotated_in_x = qh.eval(\"Rx(Pi/2)|0>\")\n",
    "print(rotated_in_x)\n",
    "print(\"-------------\")\n",
    "rotated_in_x_again = qh.eval(\"Exp(-1j * (Pi/4) * X)|0>\")\n",
    "print(rotated_in_x_again)\n",
    "print(\"-------------\")\n",
    "# Or can built by calling exponentiate matrix\n",
    "h = qh.eval(\"-1j * (Pi/4) * X\")\n",
    "# Custom quantum elements can be created by calling the contructor. It needs data and a type\n",
    "exponentiated_h = qh.WaveFunctionElement(qh.exponentiate_matrix(h.data), qh.WaveFunctionTokens.OPERATOR)\n",
    "print(exponentiated_h * qh.eval(\"|0>\"))"
   ]
  },
  {
   "cell_type": "code",
   "execution_count": 27,
   "metadata": {},
   "outputs": [
    {
     "data": {
      "image/png": "[encoded data removed]",
      "text/plain": [
       "<Figure size 1000x500 with 6 Axes>"
      ]
     },
     "metadata": {},
     "output_type": "display_data"
    }
   ],
   "source": [
    "# A single qubit ket object can also be drawn.\n",
    "zeroKet = qh.eval(\"|0>\")\n",
    "zeroKet.draw()\n",
    "# The plot on the left is the real value, and the right is the imaginary\n",
    "# The green dotted line is the x-axis"
   ]
  },
  {
   "cell_type": "code",
   "execution_count": 28,
   "metadata": {},
   "outputs": [],
   "source": [
    "zeroState = qh.eval(\"|0><0|\")\n",
    "OneState = qh.eval(\"|1><1|\")\n"
   ]
  },
  {
   "cell_type": "code",
   "execution_count": 31,
   "metadata": {},
   "outputs": [
    {
     "name": "stdout",
     "output_type": "stream",
     "text": [
      "1 |10>\n",
      "1 |10>\n"
     ]
    }
   ],
   "source": [
    "a = qh.eval(\"|10>\")\n",
    "cnot = qh.eval(\"(|0><0|)X + (|1><1|)I\")\n",
    "b = cnot * a\n",
    "a.print()\n",
    "b.print()"
   ]
  },
  {
   "cell_type": "code",
   "execution_count": 34,
   "metadata": {},
   "outputs": [
    {
     "name": "stdout",
     "output_type": "stream",
     "text": [
      "(-13.499730394751628+1.972152264454809e-31j)\n"
     ]
    }
   ],
   "source": [
    "# Here is a more complicated example of finding the ground state energy of the Heisenberg model with 8 qubits.\n",
    "\n",
    "full_hp = qh.WaveFunctionElement(np.zeros((2**8, 2**8)), qh.WaveFunctionTokens.OPERATOR)\n",
    "xs = ['XXIIIIII', 'IXXIIIII', 'IIXXIIII', 'IIIXXIII', 'IIIIXXII', 'IIIIIXXI', 'IIIIIIXX']\n",
    "ys = ['YYIIIIII', 'IYYIIIII', 'IIYYIIII', 'IIIYYIII', 'IIIIYYII', 'IIIIIYYI', 'IIIIIIYY']\n",
    "zs = ['ZZIIIIII', 'IZZIIIII', 'IIZZIIII', 'IIIZZIII', 'IIIIZZII', 'IIIIIZZI', 'IIIIIIZZ']\n",
    "for i in range(7):\n",
    "    full_hp += qh.eval(xs[i]) + qh.eval(ys[i]) + qh.eval(zs[i])\n",
    "\n",
    "eigs, eigVecs = np.linalg.eig(full_hp.data)\n",
    "print(np.min(eigs))\n",
    "\n",
    "gs_psi = qh.WaveFunctionElement(np.transpose(eigVecs)[np.argmin(eigs)], qh.WaveFunctionTokens.OPERATOR)\n",
    "\n"
   ]
  },
  {
   "cell_type": "code",
   "execution_count": 37,
   "metadata": {},
   "outputs": [],
   "source": [
    "def Hp(a, dt):\n",
    "    theta = -2 * dt * a\n",
    "    print(f\"iswap with {theta}\")\n",
    "    hpIswap = p_iSwap(theta)\n",
    "    hprzz = rzz(theta)\n",
    "    I = qh.eval(\"I\")\n",
    "    evens = (hpIswap & hpIswap & hpIswap & hpIswap) * (hprzz & hprzz & hprzz & hprzz)\n",
    "    odds = (I & hpIswap & hpIswap & hpIswap & I) * (I & hprzz & hprzz & hprzz & I)\n",
    "    return evens * odds\n",
    "\n",
    "def Hd(b, dt):\n",
    "    theta = b * dt * 2\n",
    "    print(f\"Hd with {theta}\")\n",
    "    return qh.eval(f\"(Rz({theta:.20f}))(Rz(-1 * {theta:.20f}))\" * 4)\n",
    "    #return qh.eval(f\"(Rx({theta}))\" * 8)\n",
    "\n",
    "def rzz(theta):\n",
    "    return qh.eval(f\"Exp((-1j * {theta:.20f} / 2) * (ZZ))\")\n",
    "\n",
    "def p_iSwap(theta):\n",
    "    arr = np.array([[1, 0, 0, 0],\n",
    "                    [0, np.cos(theta/2), -1j * np.sin(theta/2), 0],\n",
    "                    [0, -1j * np.sin(theta/2), np.cos(theta/2), 0],\n",
    "                    [0, 0, 0, 1]])\n",
    "    return qh.WaveFunctionElement(arr, qh.WaveFunctionTokens.OPERATOR)"
   ]
  },
  {
   "cell_type": "code",
   "execution_count": 38,
   "metadata": {},
   "outputs": [
    {
     "name": "stdout",
     "output_type": "stream",
     "text": [
      "iswap with -0.125\n",
      "Hd with 0.375\n",
      "iswap with -0.25\n",
      "Hd with 0.25\n",
      "iswap with -0.375\n",
      "Hd with 0.125\n",
      "iswap with -0.0625\n",
      "Hd with 0.4375\n"
     ]
    }
   ],
   "source": [
    "T = 1\n",
    "dt = 1 / 4\n",
    "\n",
    "psi = qh.eval(\"|01010101>\")\n",
    "t = 0\n",
    "while t < T:\n",
    "    a = (t + dt) / T\n",
    "    if a == 1:\n",
    "        a = dt/2\n",
    "    b = 1 - a\n",
    "    psi = Hp(a, dt) * psi\n",
    "    psi = Hd(b, dt) * psi\n",
    "    t += dt\n"
   ]
  },
  {
   "cell_type": "code",
   "execution_count": 40,
   "metadata": {},
   "outputs": [
    {
     "name": "stdout",
     "output_type": "stream",
     "text": [
      "(-5.5193870916865135+0j)\n",
      "(-2.6081045974369372+0j)\n",
      "(-2.6081045974369372+0j)\n",
      "(-10.735596286560387+0j)\n",
      "GS (-13.499730394751545+0j)\n"
     ]
    }
   ],
   "source": [
    "yHad = qh.WaveFunctionElement( (1/np.sqrt(2)) * np.array([[1j, -1], [1, -1j]]), qh.WaveFunctionTokens.OPERATOR)\n",
    "\n",
    "expectStrings = ['ZZIIIIII', 'IZZIIIII', 'IIZZIIII', 'IIIZZIII', 'IIIIZZII', 'IIIIIZZI', 'IIIIIIZZ']\n",
    "xPsi = qh.eval(\"HHHHHHHH\") * psi\n",
    "gsXPsi = qh.eval(\"HHHHHHHH\") * gs_psi\n",
    "yPsi = (yHad & yHad & yHad & yHad & yHad & yHad & yHad & yHad) * psi\n",
    "gsYPsi = (yHad & yHad & yHad & yHad & yHad & yHad & yHad & yHad) * gs_psi\n",
    "zEnergy = 0\n",
    "xEnergy = 0\n",
    "yEnergy = 0\n",
    "gsZEnergy = 0\n",
    "gsXEnergy = 0\n",
    "gsYEnergy = 0\n",
    "for state in expectStrings:\n",
    "    op = qh.eval(state)\n",
    "    zEnergy += (psi.dagger() * op * psi).data\n",
    "    xEnergy += (xPsi.dagger() * op * xPsi).data\n",
    "    yEnergy += (yPsi.dagger() * op * yPsi).data\n",
    "    gsZEnergy += (gs_psi.dagger() * op * gs_psi).data    \n",
    "    gsXEnergy += (gsXPsi.dagger() * op * gsXPsi).data    \n",
    "    gsYEnergy += (gsYPsi.dagger() * op * gsYPsi).data    \n",
    "print(zEnergy)\n",
    "print(xEnergy)\n",
    "print(yEnergy)\n",
    "print(zEnergy + xEnergy + yEnergy)\n",
    "\n",
    "print(f\"GS {gsZEnergy + gsYEnergy + gsXEnergy}\")"
   ]
  },
  {
   "cell_type": "code",
   "execution_count": null,
   "metadata": {},
   "outputs": [],
   "source": []
  }
 ],
 "metadata": {
  "kernelspec": {
   "display_name": "Python 3 (ipykernel)",
   "language": "python",
   "name": "python3"
  },
  "language_info": {
   "codemirror_mode": {
    "name": "ipython",
    "version": 3
   },
   "file_extension": ".py",
   "mimetype": "text/x-python",
   "name": "python",
   "nbconvert_exporter": "python",
   "pygments_lexer": "ipython3",
   "version": "3.12.2"
  }
 },
 "nbformat": 4,
 "nbformat_minor": 2
}
